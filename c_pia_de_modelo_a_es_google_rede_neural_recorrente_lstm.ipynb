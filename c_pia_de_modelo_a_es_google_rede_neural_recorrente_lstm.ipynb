{
  "nbformat": 4,
  "nbformat_minor": 0,
  "metadata": {
    "colab": {
      "provenance": [],
      "authorship_tag": "ABX9TyNQCouMnxAqt6LvGROGe4st",
      "include_colab_link": true
    },
    "kernelspec": {
      "name": "python3",
      "display_name": "Python 3"
    },
    "language_info": {
      "name": "python"
    }
  },
  "cells": [
    {
      "cell_type": "markdown",
      "metadata": {
        "id": "view-in-github",
        "colab_type": "text"
      },
      "source": [
        "<a href=\"https://colab.research.google.com/github/larissafeitosa24/MVP_Projeto2_PUC_Rio_v2/blob/main/c_pia_de_modelo_a_es_google_rede_neural_recorrente_lstm.ipynb\" target=\"_parent\"><img src=\"https://colab.research.google.com/assets/colab-badge.svg\" alt=\"Open In Colab\"/></a>"
      ]
    },
    {
      "cell_type": "markdown",
      "source": [
        "Modelo de Rede Neural Recorrente\n",
        "A base se trata de dados de ações do Google, com data base de 2012 a 2017\n",
        "Separados em duas bases, base de treino e teste( a base de teste tem 20 dias)\n",
        "\n",
        "- A base utilizada foi extraída do yahoo finanças para as ações da Google\n",
        "\n",
        "Campos do dataset :\n",
        "\n",
        "1.   Date\n",
        "2.   Open - Valor de Abertura\n",
        "3.   High - Valor mais alto do dia\n",
        "4.   Low - Valor mais baixo\n",
        "5.   Volume - Volume Negociado\n",
        "6.   High - Close : Valor de Fechamento\n",
        "\n",
        "\n",
        "Objetivo - Usar os dados de treino para prever os valores que estão nos dados de teste, o objetivo é comparar a previsão do modelo com o que de fato aconteceu.# Nova seção\n",
        "\n",
        "\n",
        "\n"
      ],
      "metadata": {
        "id": "3uFgPvZiVsmV"
      }
    },
    {
      "cell_type": "code",
      "source": [
        "# Importar as bibliotecas\n",
        "import numpy as np # vai ser usado pra criar os arrays\n",
        "import matplotlib.pyplot as plt # para gerar graficos\n",
        "import pandas as pd"
      ],
      "metadata": {
        "id": "YHiu6Xn6--9U"
      },
      "execution_count": 4,
      "outputs": []
    },
    {
      "cell_type": "code",
      "source": [
        "url_dados = 'https://raw.githubusercontent.com/larissafeitosa24/MVP_Projeto2_PUC_Rio_v2/main/Google_Stock_Price_Train.csv'"
      ],
      "metadata": {
        "id": "9bZUfmaJ0UwR"
      },
      "execution_count": 15,
      "outputs": []
    },
    {
      "cell_type": "code",
      "source": [
        "#importar os dados\n",
        "dataset_train = pd.read_csv(url_dados)\n",
        "training_set = dataset_train.iloc[:, 1:2].values # separar apenas os atributos\n",
        "# que usaremos no modelo"
      ],
      "metadata": {
        "id": "hKED_7Ez_CYz"
      },
      "execution_count": 18,
      "outputs": []
    },
    {
      "cell_type": "code",
      "source": [
        "#Transformação\n",
        "from sklearn.preprocessing import MinMaxScaler # criar valores numa mesma escala\n",
        "sc = MinMaxScaler(feature_range = (0, 1)) # a normalização será entre 0 e 1\n",
        "training_set_scaled = sc.fit_transform(training_set) # aplicar os dados na normalização"
      ],
      "metadata": {
        "id": "8TOuC6xg_HV7"
      },
      "execution_count": null,
      "outputs": []
    },
    {
      "cell_type": "code",
      "source": [
        "#Estruturas de dados com 60 intervalos de tempo, vamos pegar\n",
        "# sempre 60 dias pra prever a proxima saida\n",
        "X_train = [] # cria lista do python pra pegar os 60 dias\n",
        "y_train = [] # essa lista preve o proximo dia\n",
        "for i in range(60, 1258):\n",
        "    X_train.append(training_set_scaled[i-60:i, 0])\n",
        "    y_train.append(training_set_scaled[i, 0])\n",
        "X_train, y_train = np.array(X_train), np.array(y_train)"
      ],
      "metadata": {
        "id": "6sm9mOSI_KLr"
      },
      "execution_count": null,
      "outputs": []
    },
    {
      "cell_type": "code",
      "source": [
        "# Colocar os dados no formatos que o Keras exige, ele precisa estar em três dimensões\n",
        "# bacth_size, timesteps( intervalos de treinamento, e numero de indicadores que serão usados)\n",
        "X_train = np.reshape(X_train, (X_train.shape[0], X_train.shape[1], 1))"
      ],
      "metadata": {
        "id": "_OUbT5Qo_MsE"
      },
      "execution_count": null,
      "outputs": []
    },
    {
      "cell_type": "code",
      "source": [
        "#Importando bibliotecas do Keras\n",
        "from keras.models import Sequential\n",
        "from keras.layers import Dense\n",
        "from keras.layers import LSTM\n",
        "from keras.layers import Dropout"
      ],
      "metadata": {
        "id": "ETqGkAmv_OU5"
      },
      "execution_count": null,
      "outputs": []
    },
    {
      "cell_type": "code",
      "source": [
        "#Inicializar a rede neural\n",
        "regressor = Sequential()\n",
        "#Criando as camadas\n",
        "#1\n",
        "regressor.add(LSTM(units = 50, return_sequences = True, input_shape = (X_train.shape[1], 1)))\n",
        "regressor.add(Dropout(0.2))\n",
        "#2\n",
        "regressor.add(LSTM(units = 50, return_sequences = True))\n",
        "regressor.add(Dropout(0.2))\n",
        "#3\n",
        "regressor.add(LSTM(units = 50, return_sequences = True))\n",
        "regressor.add(Dropout(0.2))\n",
        "#4\n",
        "regressor.add(LSTM(units = 50))\n",
        "regressor.add(Dropout(0.2))\n",
        "# camda de saída\n",
        "regressor.add(Dense(units = 1))"
      ],
      "metadata": {
        "id": "wz8ZuTmt_Qxb"
      },
      "execution_count": null,
      "outputs": []
    },
    {
      "cell_type": "code",
      "source": [
        "#Compilando a rede\n",
        "regressor.compile(optimizer = 'adam', loss = 'mean_squared_error')\n",
        "#Treinando\n",
        "regressor.fit(X_train, y_train, epochs = 100, batch_size = 32)"
      ],
      "metadata": {
        "colab": {
          "base_uri": "https://localhost:8080/"
        },
        "id": "hMyoJRS4_68M",
        "outputId": "a25ac08c-d985-4a6c-c6b1-f7c83fb7648f"
      },
      "execution_count": null,
      "outputs": [
        {
          "output_type": "stream",
          "name": "stdout",
          "text": [
            "Epoch 1/100\n",
            "38/38 [==============================] - 15s 138ms/step - loss: 0.0416\n",
            "Epoch 2/100\n",
            "38/38 [==============================] - 6s 153ms/step - loss: 0.0062\n",
            "Epoch 3/100\n",
            "38/38 [==============================] - 5s 134ms/step - loss: 0.0048\n",
            "Epoch 4/100\n",
            "38/38 [==============================] - 6s 157ms/step - loss: 0.0048\n",
            "Epoch 5/100\n",
            "38/38 [==============================] - 5s 136ms/step - loss: 0.0052\n",
            "Epoch 6/100\n",
            "38/38 [==============================] - 6s 157ms/step - loss: 0.0048\n",
            "Epoch 7/100\n",
            "38/38 [==============================] - 5s 139ms/step - loss: 0.0042\n",
            "Epoch 8/100\n",
            "38/38 [==============================] - 6s 158ms/step - loss: 0.0048\n",
            "Epoch 9/100\n",
            "38/38 [==============================] - 5s 134ms/step - loss: 0.0049\n",
            "Epoch 10/100\n",
            "38/38 [==============================] - 6s 156ms/step - loss: 0.0044\n",
            "Epoch 11/100\n",
            "38/38 [==============================] - 5s 135ms/step - loss: 0.0045\n",
            "Epoch 12/100\n",
            "38/38 [==============================] - 6s 154ms/step - loss: 0.0035\n",
            "Epoch 13/100\n",
            "38/38 [==============================] - 5s 138ms/step - loss: 0.0038\n",
            "Epoch 14/100\n",
            "38/38 [==============================] - 5s 137ms/step - loss: 0.0042\n",
            "Epoch 15/100\n",
            "38/38 [==============================] - 6s 152ms/step - loss: 0.0040\n",
            "Epoch 16/100\n",
            "38/38 [==============================] - 5s 138ms/step - loss: 0.0039\n",
            "Epoch 17/100\n",
            "38/38 [==============================] - 6s 156ms/step - loss: 0.0042\n",
            "Epoch 18/100\n",
            "38/38 [==============================] - 5s 137ms/step - loss: 0.0044\n",
            "Epoch 19/100\n",
            "38/38 [==============================] - 6s 158ms/step - loss: 0.0038\n",
            "Epoch 20/100\n",
            "38/38 [==============================] - 5s 135ms/step - loss: 0.0032\n",
            "Epoch 21/100\n",
            "38/38 [==============================] - 6s 159ms/step - loss: 0.0031\n",
            "Epoch 22/100\n",
            "38/38 [==============================] - 5s 138ms/step - loss: 0.0035\n",
            "Epoch 23/100\n",
            "38/38 [==============================] - 6s 159ms/step - loss: 0.0036\n",
            "Epoch 24/100\n",
            "38/38 [==============================] - 5s 136ms/step - loss: 0.0034\n",
            "Epoch 25/100\n",
            "38/38 [==============================] - 6s 161ms/step - loss: 0.0032\n",
            "Epoch 26/100\n",
            "38/38 [==============================] - 5s 134ms/step - loss: 0.0030\n",
            "Epoch 27/100\n",
            "38/38 [==============================] - 6s 146ms/step - loss: 0.0033\n",
            "Epoch 28/100\n",
            "38/38 [==============================] - 6s 144ms/step - loss: 0.0031\n",
            "Epoch 29/100\n",
            "38/38 [==============================] - 5s 136ms/step - loss: 0.0036\n",
            "Epoch 30/100\n",
            "38/38 [==============================] - 6s 158ms/step - loss: 0.0032\n",
            "Epoch 31/100\n",
            "38/38 [==============================] - 5s 138ms/step - loss: 0.0029\n",
            "Epoch 32/100\n",
            "38/38 [==============================] - 6s 167ms/step - loss: 0.0032\n",
            "Epoch 33/100\n",
            "38/38 [==============================] - 6s 150ms/step - loss: 0.0029\n",
            "Epoch 34/100\n",
            "38/38 [==============================] - 6s 158ms/step - loss: 0.0027\n",
            "Epoch 35/100\n",
            "38/38 [==============================] - 5s 134ms/step - loss: 0.0027\n",
            "Epoch 36/100\n",
            "38/38 [==============================] - 6s 155ms/step - loss: 0.0027\n",
            "Epoch 37/100\n",
            "38/38 [==============================] - 5s 134ms/step - loss: 0.0027\n",
            "Epoch 38/100\n",
            "38/38 [==============================] - 6s 157ms/step - loss: 0.0026\n",
            "Epoch 39/100\n",
            "38/38 [==============================] - 5s 134ms/step - loss: 0.0027\n",
            "Epoch 40/100\n",
            "38/38 [==============================] - 6s 158ms/step - loss: 0.0026\n",
            "Epoch 41/100\n",
            "38/38 [==============================] - 5s 133ms/step - loss: 0.0025\n",
            "Epoch 42/100\n",
            "38/38 [==============================] - 6s 146ms/step - loss: 0.0026\n",
            "Epoch 43/100\n",
            "38/38 [==============================] - 5s 141ms/step - loss: 0.0024\n",
            "Epoch 44/100\n",
            "38/38 [==============================] - 5s 135ms/step - loss: 0.0032\n",
            "Epoch 45/100\n",
            "38/38 [==============================] - 6s 157ms/step - loss: 0.0025\n",
            "Epoch 46/100\n",
            "38/38 [==============================] - 5s 135ms/step - loss: 0.0025\n",
            "Epoch 47/100\n",
            "38/38 [==============================] - 6s 156ms/step - loss: 0.0027\n",
            "Epoch 48/100\n",
            "38/38 [==============================] - 5s 135ms/step - loss: 0.0026\n",
            "Epoch 49/100\n",
            "38/38 [==============================] - 6s 162ms/step - loss: 0.0024\n",
            "Epoch 50/100\n",
            "38/38 [==============================] - 5s 137ms/step - loss: 0.0025\n",
            "Epoch 51/100\n",
            "38/38 [==============================] - 6s 156ms/step - loss: 0.0023\n",
            "Epoch 52/100\n",
            "38/38 [==============================] - 5s 135ms/step - loss: 0.0023\n",
            "Epoch 53/100\n",
            "38/38 [==============================] - 6s 158ms/step - loss: 0.0023\n",
            "Epoch 54/100\n",
            "38/38 [==============================] - 5s 136ms/step - loss: 0.0023\n",
            "Epoch 55/100\n",
            "38/38 [==============================] - 6s 147ms/step - loss: 0.0021\n",
            "Epoch 56/100\n",
            "38/38 [==============================] - 5s 142ms/step - loss: 0.0023\n",
            "Epoch 57/100\n",
            "38/38 [==============================] - 5s 137ms/step - loss: 0.0020\n",
            "Epoch 58/100\n",
            "38/38 [==============================] - 6s 160ms/step - loss: 0.0020\n",
            "Epoch 59/100\n",
            "38/38 [==============================] - 5s 143ms/step - loss: 0.0023\n",
            "Epoch 60/100\n",
            "38/38 [==============================] - 6s 156ms/step - loss: 0.0020\n",
            "Epoch 61/100\n",
            "38/38 [==============================] - 5s 138ms/step - loss: 0.0020\n",
            "Epoch 62/100\n",
            "38/38 [==============================] - 6s 157ms/step - loss: 0.0020\n",
            "Epoch 63/100\n",
            "38/38 [==============================] - 5s 136ms/step - loss: 0.0020\n",
            "Epoch 64/100\n",
            "38/38 [==============================] - 6s 162ms/step - loss: 0.0017\n",
            "Epoch 65/100\n",
            "38/38 [==============================] - 5s 138ms/step - loss: 0.0021\n",
            "Epoch 66/100\n",
            "38/38 [==============================] - 6s 158ms/step - loss: 0.0017\n",
            "Epoch 67/100\n",
            "38/38 [==============================] - 5s 136ms/step - loss: 0.0019\n",
            "Epoch 68/100\n",
            "38/38 [==============================] - 6s 159ms/step - loss: 0.0023\n",
            "Epoch 69/100\n",
            "38/38 [==============================] - 5s 136ms/step - loss: 0.0019\n",
            "Epoch 70/100\n",
            "38/38 [==============================] - 6s 147ms/step - loss: 0.0018\n",
            "Epoch 71/100\n",
            "38/38 [==============================] - 6s 145ms/step - loss: 0.0020\n",
            "Epoch 72/100\n",
            "38/38 [==============================] - 5s 137ms/step - loss: 0.0017\n",
            "Epoch 73/100\n",
            "38/38 [==============================] - 6s 158ms/step - loss: 0.0019\n",
            "Epoch 74/100\n",
            "38/38 [==============================] - 5s 137ms/step - loss: 0.0018\n",
            "Epoch 75/100\n",
            "38/38 [==============================] - 6s 158ms/step - loss: 0.0020\n",
            "Epoch 76/100\n",
            "38/38 [==============================] - 5s 136ms/step - loss: 0.0020\n",
            "Epoch 77/100\n",
            "38/38 [==============================] - 6s 160ms/step - loss: 0.0016\n",
            "Epoch 78/100\n",
            "38/38 [==============================] - 5s 136ms/step - loss: 0.0017\n",
            "Epoch 79/100\n",
            "38/38 [==============================] - 6s 158ms/step - loss: 0.0019\n",
            "Epoch 80/100\n",
            "38/38 [==============================] - 5s 137ms/step - loss: 0.0017\n",
            "Epoch 81/100\n",
            "38/38 [==============================] - 6s 157ms/step - loss: 0.0018\n",
            "Epoch 82/100\n",
            "38/38 [==============================] - 5s 136ms/step - loss: 0.0015\n",
            "Epoch 83/100\n",
            "38/38 [==============================] - 6s 155ms/step - loss: 0.0017\n",
            "Epoch 84/100\n",
            "38/38 [==============================] - 5s 135ms/step - loss: 0.0017\n",
            "Epoch 85/100\n",
            "38/38 [==============================] - 5s 137ms/step - loss: 0.0016\n",
            "Epoch 86/100\n",
            "38/38 [==============================] - 6s 154ms/step - loss: 0.0017\n",
            "Epoch 87/100\n",
            "38/38 [==============================] - 5s 137ms/step - loss: 0.0016\n",
            "Epoch 88/100\n",
            "38/38 [==============================] - 6s 158ms/step - loss: 0.0015\n",
            "Epoch 89/100\n",
            "38/38 [==============================] - 5s 136ms/step - loss: 0.0015\n",
            "Epoch 90/100\n",
            "38/38 [==============================] - 6s 158ms/step - loss: 0.0015\n",
            "Epoch 91/100\n",
            "38/38 [==============================] - 5s 135ms/step - loss: 0.0016\n",
            "Epoch 92/100\n",
            "38/38 [==============================] - 6s 158ms/step - loss: 0.0016\n",
            "Epoch 93/100\n",
            "38/38 [==============================] - 5s 134ms/step - loss: 0.0015\n",
            "Epoch 94/100\n",
            "38/38 [==============================] - 6s 157ms/step - loss: 0.0014\n",
            "Epoch 95/100\n",
            "38/38 [==============================] - 5s 137ms/step - loss: 0.0016\n",
            "Epoch 96/100\n",
            "38/38 [==============================] - 6s 159ms/step - loss: 0.0014\n",
            "Epoch 97/100\n",
            "38/38 [==============================] - 5s 136ms/step - loss: 0.0016\n",
            "Epoch 98/100\n",
            "38/38 [==============================] - 6s 145ms/step - loss: 0.0015\n",
            "Epoch 99/100\n",
            "38/38 [==============================] - 6s 147ms/step - loss: 0.0014\n",
            "Epoch 100/100\n",
            "38/38 [==============================] - 5s 137ms/step - loss: 0.0015\n"
          ]
        },
        {
          "output_type": "execute_result",
          "data": {
            "text/plain": [
              "<keras.callbacks.History at 0x7d8ce3c89690>"
            ]
          },
          "metadata": {},
          "execution_count": 18
        }
      ]
    },
    {
      "cell_type": "code",
      "source": [
        "url_dados2 = 'https://raw.githubusercontent.com/larissafeitosa24/MVP_Projeto2_PUC_Rio_v2/main/Google_Stock_Price_Test.csv'"
      ],
      "metadata": {
        "id": "ylXnxm8t1w1S"
      },
      "execution_count": 20,
      "outputs": []
    },
    {
      "cell_type": "code",
      "source": [
        "#Obtendo os dados reais\n",
        "dataset_test = pd.read_csv(url_dados2)\n",
        "real_stock_price = dataset_test.iloc[:, 1:2].values # pegar apenas coluna de saída, a Open"
      ],
      "metadata": {
        "id": "w11f2BX6CrHp"
      },
      "execution_count": 22,
      "outputs": []
    },
    {
      "cell_type": "code",
      "source": [
        "#Obtendo os dados previstos\n",
        "dataset_total = pd.concat((dataset_train['Open'], dataset_test['Open']), axis = 0)\n",
        "inputs = dataset_total[len(dataset_total) - len(dataset_test) - 60:].values\n",
        "inputs = inputs.reshape(-1,1) # transformar a variável passando -1 e 1 como parâmetro\n",
        "inputs = sc.transform(inputs) # fazer a normalização\n",
        "X_test = []\n",
        "for i in range(60, 80):\n",
        "    X_test.append(inputs[i-60:i, 0])\n",
        "X_test = np.array(X_test)\n",
        "X_test = np.reshape(X_test, (X_test.shape[0], X_test.shape[1], 1))\n",
        "predicted_stock_price = regressor.predict(X_test)\n",
        "predicted_stock_price = sc.inverse_transform(predicted_stock_price)"
      ],
      "metadata": {
        "colab": {
          "base_uri": "https://localhost:8080/"
        },
        "id": "mZbCiyaeCtGQ",
        "outputId": "447422ec-4de7-40a3-dcbd-6eba0a621295"
      },
      "execution_count": null,
      "outputs": [
        {
          "output_type": "stream",
          "name": "stdout",
          "text": [
            "1/1 [==============================] - 2s 2s/step\n"
          ]
        }
      ]
    },
    {
      "cell_type": "code",
      "source": [
        "#Visualizando os Resultados\n",
        "plt.plot(real_stock_price, color = 'red', label = 'Dados Reais de Ações do Google')\n",
        "plt.plot(predicted_stock_price, color = 'blue', label = 'Dados Previstos de Ações do Google')\n",
        "plt.title('Previsão de Preços de Ações')\n",
        "plt.xlabel('Tempo')\n",
        "plt.ylabel('Preços de Ações do Google')\n",
        "plt.legend()\n",
        "plt.show()"
      ],
      "metadata": {
        "colab": {
          "base_uri": "https://localhost:8080/",
          "height": 472
        },
        "id": "-fBsqmdvCu_R",
        "outputId": "7b5604d7-73b7-4f0d-92ef-e6fc3ccde012"
      },
      "execution_count": null,
      "outputs": [
        {
          "output_type": "display_data",
          "data": {
            "text/plain": [
              "<Figure size 640x480 with 1 Axes>"
            ],
            "image/png": "[encoded data removed]"
          },
          "metadata": {}
        }
      ]
    },
    {
      "cell_type": "markdown",
      "source": [
        "É Possível verificar que seguiu uma tendência boa, mas ali pro final não conseguiu acertar tudo, teve um grande pico, prever dados financeiros é bastante complexa, não é recomendado basear os investimentos em modelos como esse, mas pra fornecer visões de tendência é um bom parâmetro."
      ],
      "metadata": {
        "id": "L6KmRbD2DIsd"
      }
    },
    {
      "cell_type": "markdown",
      "source": [],
      "metadata": {
        "id": "P41IC0CFCxqy"
      }
    }
  ]
}